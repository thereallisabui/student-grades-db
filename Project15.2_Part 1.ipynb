{
 "cells": [
  {
   "cell_type": "markdown",
   "metadata": {
    "deletable": false,
    "editable": false,
    "nbgrader": {
     "checksum": "be505f5df3677d955e5a954bb8c8242a",
     "grade": false,
     "grade_id": "cell-c77a447996e5c964",
     "locked": true,
     "schema_version": 1,
     "solution": false
    }
   },
   "source": [
    "# Project 15.2: Project 2 Part 1: Creating a Student Grades Database\n",
    "\n",
    "\n",
    "### Learning Outcome Addressed\n",
    "\n",
    "- 5. Create a relational database using Python.\n",
    "\n",
    "\n",
    "## Index:\n",
    "\n",
    "- [Question 1](#Question-1)\n",
    "- [Question 2](#Question-2)\n",
    "- [Question 3](#Question-3)\n",
    "- [Question 4](#Question-4)\n",
    "- [Question 5](#Question-5)\n",
    "- [Question 6](#Question-6)\n",
    "- [Question 7](#Question-7)\n",
    "- [Question 8](#Question-8)\n",
    "- [Question 9](#Question-9)\n",
    "- [Question 10](#Question-10)\n",
    "- [Question 11](#Question-11)\n",
    "- [Question 12](#Question-12)\n",
    "- [Question 13](#Question-13)\n",
    "- [Question 14](#Question-14)\n",
    "- [Question 15](#Question-15)\n",
    "- [Question 16](#Question-16)\n",
    "- [Question 17](#Question-17)\n",
    "- [Question 18](#Question-18)\n",
    "- [Question 19](#Question-19)\n",
    "- [Question 20](#Question-20)\n"
   ]
  },
  {
   "cell_type": "markdown",
   "metadata": {
    "deletable": false,
    "editable": false,
    "nbgrader": {
     "checksum": "35abfad8efbd85f3e4833625b872dad3",
     "grade": false,
     "grade_id": "cell-5937354b296b76d4",
     "locked": true,
     "schema_version": 1,
     "solution": false
    }
   },
   "source": [
    "\n",
    "\n",
    "\n",
    "## Question 1\n",
    "\n",
    "*5 points*\n",
    "\n",
    "Write a Python *dictionary*, *`s1`*, with *keys, `id`* and `name`, and corresponding values, *`1`* and `Alice`.\n",
    "\n",
    "Write a Python *dictionary*, *`s2`*, with *keys, `id`* and `name`, and corresponding values, *`2`* and `Bob`.\n",
    "\n",
    "Write a Python *dictionary*, *`s3`*, with *keys, `id`* and `name`, and corresponding values, *`3`* and `Fred`."
   ]
  },
  {
   "cell_type": "code",
   "execution_count": 1,
   "metadata": {
    "deletable": false,
    "nbgrader": {
     "checksum": "a5cd80ccb4bdd499d98b94e3afcf2b94",
     "grade": false,
     "grade_id": "cell-aa534519933a1a61",
     "locked": false,
     "schema_version": 1,
     "solution": true
    }
   },
   "outputs": [],
   "source": [
    "### GRADED\n",
    "\n",
    "### YOUR SOLUTION HERE\n",
    "s1 = None\n",
    "s2 = None\n",
    "s3 = None\n",
    "\n",
    "# YOUR CODE HERE\n",
    "s1 = {'id': 1, 'name': 'Alice'}\n",
    "s2 = {'id': 2, 'name': 'Bob'}\n",
    "s3 = {'id': 3, 'name': 'Fred'}"
   ]
  },
  {
   "cell_type": "code",
   "execution_count": null,
   "metadata": {
    "deletable": false,
    "editable": false,
    "nbgrader": {
     "checksum": "6e4de47adee218437bc1df19312d4740",
     "grade": true,
     "grade_id": "cell-4b7f826aa2770292",
     "locked": true,
     "points": 5,
     "schema_version": 1,
     "solution": false
    }
   },
   "outputs": [],
   "source": []
  },
  {
   "cell_type": "markdown",
   "metadata": {
    "deletable": false,
    "editable": false,
    "nbgrader": {
     "checksum": "f2c9785cd594e2c8cc1ab30d580d3c75",
     "grade": false,
     "grade_id": "cell-c75b9ae8b27d1995",
     "locked": true,
     "schema_version": 1,
     "solution": false
    }
   },
   "source": [
    "\n",
    "## Question 2\n",
    "\n",
    "*5 points*\n",
    "\n",
    "Define a Python *dictionary*, *`student`*, with *key, `students`*, and corresponding values in a *list* containing the *dictionaries `s1`*, *`s2`*, and *`s3`* as defined in Question 1.\n"
   ]
  },
  {
   "cell_type": "code",
   "execution_count": 2,
   "metadata": {
    "deletable": false,
    "nbgrader": {
     "checksum": "71168bb891516df7f06a4de3f699a457",
     "grade": false,
     "grade_id": "cell-93657f08d26dca3d",
     "locked": false,
     "schema_version": 1,
     "solution": true
    }
   },
   "outputs": [],
   "source": [
    "### GRADED\n",
    "\n",
    "### YOUR SOLUTION HERE\n",
    "student = None\n",
    "\n",
    "# YOUR CODE HERE\n",
    "student = {'students': [s1, s2, s3]}"
   ]
  },
  {
   "cell_type": "code",
   "execution_count": null,
   "metadata": {
    "deletable": false,
    "editable": false,
    "nbgrader": {
     "checksum": "6b99fcf1ea915c4387948b253327e9a2",
     "grade": true,
     "grade_id": "cell-7d9ff251acfc1475",
     "locked": true,
     "points": 5,
     "schema_version": 1,
     "solution": false
    }
   },
   "outputs": [],
   "source": []
  },
  {
   "cell_type": "markdown",
   "metadata": {
    "deletable": false,
    "editable": false,
    "nbgrader": {
     "checksum": "be3fcf8b50b3399629e17386c6b23d00",
     "grade": false,
     "grade_id": "cell-e4bd6ba3af500572",
     "locked": true,
     "schema_version": 1,
     "solution": false
    }
   },
   "source": [
    "## Question 3\n",
    "\n",
    "*5 points*\n",
    "\n",
    "Write a Python *dictionary*, *`p1`*,  with *keys, `id`* and `MaxScore`, and corresponding values *`1`* and `100`.\n",
    "\n",
    "Write a Python *dictionary*, *`p2`*, with *keys, `id`* and `MaxScore`, and corresponding values *`2`* and `80`.\n",
    "\n",
    "Write a Python *dictionary*, *`p3`*, with *keys, `id`*, and `MaxScore`, and corresponding values *`3`* and `90`."
   ]
  },
  {
   "cell_type": "code",
   "execution_count": 3,
   "metadata": {
    "deletable": false,
    "nbgrader": {
     "checksum": "3ae670d68817b4500946f8f41794c0c4",
     "grade": false,
     "grade_id": "cell-7d80cd9a911ee74c",
     "locked": false,
     "schema_version": 1,
     "solution": true
    }
   },
   "outputs": [],
   "source": [
    "### GRADED\n",
    "\n",
    "### YOUR SOLUTION HERE\n",
    "p1 = None\n",
    "p2 = None\n",
    "p3 = None\n",
    "\n",
    "# YOUR CODE HERE\n",
    "p1 = {'id': 1, 'MaxScore':100}\n",
    "p2 = {'id': 2, 'MaxScore':80}\n",
    "p3 = {'id': 3, 'MaxScore':90}"
   ]
  },
  {
   "cell_type": "code",
   "execution_count": null,
   "metadata": {
    "deletable": false,
    "editable": false,
    "nbgrader": {
     "checksum": "40ebb699047f5708cc609d40ff3c6faf",
     "grade": true,
     "grade_id": "cell-dd5e48885f36f1be",
     "locked": true,
     "points": 5,
     "schema_version": 1,
     "solution": false
    }
   },
   "outputs": [],
   "source": []
  },
  {
   "cell_type": "markdown",
   "metadata": {
    "deletable": false,
    "editable": false,
    "nbgrader": {
     "checksum": "2f0a1f6acd35a5a886981dd400054a51",
     "grade": false,
     "grade_id": "cell-1356792a63f0ec74",
     "locked": true,
     "schema_version": 1,
     "solution": false
    }
   },
   "source": [
    "## Question 4\n",
    "\n",
    "*5 points*\n",
    "\n",
    "Define a Python *dictionary*, *`psets`*, with *key, `psets`*, and corresponding values in a *list* containing the *dictionaries `p1`*, *`p2`*, and *`p3`* as defined in Question 3."
   ]
  },
  {
   "cell_type": "code",
   "execution_count": 4,
   "metadata": {
    "deletable": false,
    "nbgrader": {
     "checksum": "6e487938db6121499f11f0aaf2ed328d",
     "grade": false,
     "grade_id": "cell-09f75eea86d94172",
     "locked": false,
     "schema_version": 1,
     "solution": true
    }
   },
   "outputs": [],
   "source": [
    "### GRADED\n",
    "\n",
    "### YOUR SOLUTION HERE\n",
    "psets = None\n",
    "\n",
    "# YOUR CODE HERE\n",
    "psets = {'psets': [p1, p2, p3]}"
   ]
  },
  {
   "cell_type": "code",
   "execution_count": null,
   "metadata": {
    "deletable": false,
    "editable": false,
    "nbgrader": {
     "checksum": "8bf36edb489d27c65f6eb31d2bd47bc3",
     "grade": true,
     "grade_id": "cell-fdc22fbbfa07758a",
     "locked": true,
     "points": 5,
     "schema_version": 1,
     "solution": false
    }
   },
   "outputs": [],
   "source": []
  },
  {
   "cell_type": "markdown",
   "metadata": {
    "deletable": false,
    "editable": false,
    "nbgrader": {
     "checksum": "49c93c9ec6ade9f445f135b55678f9ee",
     "grade": false,
     "grade_id": "cell-f35d8ce21aadc96d",
     "locked": true,
     "schema_version": 1,
     "solution": false
    }
   },
   "source": [
    "## Question 5\n",
    "\n",
    "*5 points*\n",
    "\n",
    "Write a Python *dictionary*, *`g1`*, *key, `sid`*, *`pid`*, `score` and corresponding values *`1`* and `1`, and `90`.\n",
    "\n",
    "Write a Python *dictionary*, *`g3`*, *key, `sid`*, *`pid`*, `score` and corresponding values *`2`* and `1`, and `95`.\n",
    "\n",
    "Write a Python *dictionary*, *`g3`*, *key, `sid`*, *`pid`*, `score` and corresponding values *`1`* and `2`, and `50`."
   ]
  },
  {
   "cell_type": "code",
   "execution_count": 5,
   "metadata": {
    "deletable": false,
    "nbgrader": {
     "checksum": "f6544bc5921c33481b4bb10cf2ed8d21",
     "grade": false,
     "grade_id": "cell-4c56cbef0894ae4d",
     "locked": false,
     "schema_version": 1,
     "solution": true
    }
   },
   "outputs": [],
   "source": [
    "### GRADED\n",
    "\n",
    "### YOUR SOLUTION HERE\n",
    "g1 = None\n",
    "g2 = None\n",
    "g3 = None\n",
    "\n",
    "# YOUR CODE HERE\n",
    "g1 = {'sid': 1, 'pid':1, 'score':90}\n",
    "g2 = {'sid': 2, 'pid':1, 'score':95}\n",
    "g3 = {'sid': 1, 'pid':2, 'score':50}"
   ]
  },
  {
   "cell_type": "code",
   "execution_count": null,
   "metadata": {
    "deletable": false,
    "editable": false,
    "nbgrader": {
     "checksum": "b510c1b9189896e14d40ec9eaad9c821",
     "grade": true,
     "grade_id": "cell-2eb058e02190a145",
     "locked": true,
     "points": 5,
     "schema_version": 1,
     "solution": false
    }
   },
   "outputs": [],
   "source": []
  },
  {
   "cell_type": "markdown",
   "metadata": {
    "deletable": false,
    "editable": false,
    "nbgrader": {
     "checksum": "b13effcc859b6a69f1dab59470e82bd9",
     "grade": false,
     "grade_id": "cell-c36a770146e35bac",
     "locked": true,
     "schema_version": 1,
     "solution": false
    }
   },
   "source": [
    "## Question 6\n",
    "\n",
    "*5 points*\n",
    "\n",
    "Define a Python *dictionary*, *`grades`*, with *key, `grades`*, and corresponding values in a *list* containing the *dictionaries `g1`*, *`g2`*, and *`g3`* as defined in Question 5."
   ]
  },
  {
   "cell_type": "code",
   "execution_count": 6,
   "metadata": {
    "deletable": false,
    "nbgrader": {
     "checksum": "54a10c7de735ebc0ecbf927be68f7f70",
     "grade": false,
     "grade_id": "cell-7322dc926642c4bb",
     "locked": false,
     "schema_version": 1,
     "solution": true
    }
   },
   "outputs": [],
   "source": [
    "### GRADED\n",
    "\n",
    "### YOUR SOLUTION HERE\n",
    "grades = None\n",
    "\n",
    "# YOUR CODE HERE\n",
    "grades = {'grades': [g1, g2, g3]}"
   ]
  },
  {
   "cell_type": "code",
   "execution_count": null,
   "metadata": {
    "deletable": false,
    "editable": false,
    "nbgrader": {
     "checksum": "18e446282b719f9bcb9a24ab6df6eaa3",
     "grade": true,
     "grade_id": "cell-d9f8309a67af1bfb",
     "locked": true,
     "points": 5,
     "schema_version": 1,
     "solution": false
    }
   },
   "outputs": [],
   "source": []
  },
  {
   "cell_type": "markdown",
   "metadata": {
    "deletable": false,
    "editable": false,
    "nbgrader": {
     "checksum": "edbcfc906fe13ac3080270c98006a0e4",
     "grade": false,
     "grade_id": "cell-c6103d173191d2a4",
     "locked": true,
     "schema_version": 1,
     "solution": false
    }
   },
   "source": [
    "## Question 7\n",
    "\n",
    "*5 points*\n",
    "\n",
    "Define a Python *dictionary*, *`db`*, with *key, `students`*, *`psets`*, *`grades`*, and corresponding values equal to empty *lists*.\n"
   ]
  },
  {
   "cell_type": "code",
   "execution_count": 7,
   "metadata": {
    "deletable": false,
    "nbgrader": {
     "checksum": "8c439fbd42aa02448c4a9f84b1bd8c67",
     "grade": false,
     "grade_id": "cell-072159b2c0d5e508",
     "locked": false,
     "schema_version": 1,
     "solution": true
    }
   },
   "outputs": [],
   "source": [
    "### GRADED\n",
    "\n",
    "### YOUR SOLUTION HERE\n",
    "db = None\n",
    "\n",
    "# YOUR CODE HERE\n",
    "db = {'students': [], 'psets': [], 'grades': []}"
   ]
  },
  {
   "cell_type": "code",
   "execution_count": null,
   "metadata": {
    "deletable": false,
    "editable": false,
    "nbgrader": {
     "checksum": "0504156f802f22387b725700d15d9a3a",
     "grade": true,
     "grade_id": "cell-99f440485c49c900",
     "locked": true,
     "points": 5,
     "schema_version": 1,
     "solution": false
    }
   },
   "outputs": [],
   "source": []
  },
  {
   "cell_type": "markdown",
   "metadata": {
    "deletable": false,
    "editable": false,
    "nbgrader": {
     "checksum": "3e67597bde1c72fcee4f223e0c9aeb41",
     "grade": false,
     "grade_id": "cell-bbe0e59227e0a683",
     "locked": true,
     "schema_version": 1,
     "solution": false
    }
   },
   "source": [
    "## Question 8\n",
    "\n",
    "*5 points*\n",
    "\n",
    "Define a Python *function*, *`addStudent`*, that takes, as inputs, the database, *`db`*, that was created in Question 7, *`studentID`*, and *`studentName`*.\n",
    "\n",
    "Your *function* should add a *dictionary* to the database with *keys, `id`* and *`name`*, and corresponding values *`studentId`* and *`studentName`*.\n",
    "\n"
   ]
  },
  {
   "cell_type": "code",
   "execution_count": 8,
   "metadata": {
    "deletable": false,
    "nbgrader": {
     "checksum": "42a1abb2cabe6034cad1a0b4b529fa81",
     "grade": false,
     "grade_id": "cell-bfb31cc5767953eb",
     "locked": false,
     "schema_version": 1,
     "solution": true
    }
   },
   "outputs": [],
   "source": [
    "### GRADED\n",
    "\n",
    "### YOUR SOLUTION HERE\n",
    "def addStudent():\n",
    "    pass\n",
    "\n",
    "# YOUR CODE HERE\n",
    "def addStudent(db, studentId, studentName):\n",
    "    db['students'].append({'id':studentId, 'name':studentName})"
   ]
  },
  {
   "cell_type": "code",
   "execution_count": null,
   "metadata": {
    "deletable": false,
    "editable": false,
    "nbgrader": {
     "checksum": "430ff79cfe6e3e18373f6d596dce3682",
     "grade": true,
     "grade_id": "cell-6087fcdde06ccec1",
     "locked": true,
     "points": 5,
     "schema_version": 1,
     "solution": false
    }
   },
   "outputs": [],
   "source": []
  },
  {
   "cell_type": "markdown",
   "metadata": {
    "deletable": false,
    "editable": false,
    "nbgrader": {
     "checksum": "3f95368b583437604187385748612310",
     "grade": false,
     "grade_id": "cell-577de77e570c0a36",
     "locked": true,
     "schema_version": 1,
     "solution": false
    }
   },
   "source": [
    "Below, you will add information to the *`db`* database about *`s1`*, *`s2`*, and *`s3`* by using the *`addStudent` function* as defined in Question 8."
   ]
  },
  {
   "cell_type": "code",
   "execution_count": 9,
   "metadata": {},
   "outputs": [
    {
     "data": {
      "text/plain": [
       "{'grades': [],\n",
       " 'psets': [],\n",
       " 'students': [{'id': 1, 'name': 'Alice'},\n",
       "  {'id': 2, 'name': 'Bob'},\n",
       "  {'id': 3, 'name': 'Fred'}]}"
      ]
     },
     "execution_count": 9,
     "metadata": {},
     "output_type": "execute_result"
    }
   ],
   "source": [
    "\n",
    "addStudent(db, 1, 'Alice')\n",
    "addStudent(db, 2, 'Bob')\n",
    "addStudent(db, 3, 'Fred')\n",
    "db"
   ]
  },
  {
   "cell_type": "markdown",
   "metadata": {
    "deletable": false,
    "editable": false,
    "nbgrader": {
     "checksum": "00f637e894f852f56024bcf24897919e",
     "grade": false,
     "grade_id": "cell-c432cdc54c940cbc",
     "locked": true,
     "schema_version": 1,
     "solution": false
    }
   },
   "source": [
    "## Question 9\n",
    "\n",
    "*5 points*\n",
    "\n",
    "Define a Python *function*, *`addPset`*, that takes, as inputs, the *`db`* database that was created in Question 7, *`pset_id`*, and *`pset_total_points`*.\n",
    "\n",
    "Your *function* should add to the database a *dictionary* with *keys, `id`* and *`points`*, and corresponding values *`pset_id`* and *`pset_total_points`*."
   ]
  },
  {
   "cell_type": "code",
   "execution_count": 10,
   "metadata": {
    "deletable": false,
    "nbgrader": {
     "checksum": "6b699819b0a60afa6c583b0bcdd396c9",
     "grade": false,
     "grade_id": "cell-bea0103e3cc9cd2b",
     "locked": false,
     "schema_version": 1,
     "solution": true
    }
   },
   "outputs": [],
   "source": [
    "### GRADED\n",
    "\n",
    "### YOUR SOLUTION HERE\n",
    "def addPset():\n",
    "    pass\n",
    "\n",
    "# YOUR CODE HERE\n",
    "def addPset(db, pset_id, pset_total_points):\n",
    "    db['psets'].append({'id':pset_id, 'points':pset_total_points})"
   ]
  },
  {
   "cell_type": "code",
   "execution_count": null,
   "metadata": {
    "deletable": false,
    "editable": false,
    "nbgrader": {
     "checksum": "c546d4f332c698311bb1fad62c9c3b03",
     "grade": true,
     "grade_id": "cell-07e5cb4d5358981d",
     "locked": true,
     "points": 5,
     "schema_version": 1,
     "solution": false
    }
   },
   "outputs": [],
   "source": []
  },
  {
   "cell_type": "markdown",
   "metadata": {
    "deletable": false,
    "editable": false,
    "nbgrader": {
     "checksum": "1d7dd15c161b65467c93ccba4e88cc8c",
     "grade": false,
     "grade_id": "cell-8b6fd16480ff43f7",
     "locked": true,
     "schema_version": 1,
     "solution": false
    }
   },
   "source": [
    "Below we add to the database *`db`* information about *`p1`*, *`p2`*, and *`p3`* by using the *function `addPset`* defined in Question 9."
   ]
  },
  {
   "cell_type": "code",
   "execution_count": 11,
   "metadata": {},
   "outputs": [
    {
     "data": {
      "text/plain": [
       "{'grades': [],\n",
       " 'psets': [{'id': 1, 'points': 100},\n",
       "  {'id': 2, 'points': 90},\n",
       "  {'id': 3, 'points': 95}],\n",
       " 'students': [{'id': 1, 'name': 'Alice'},\n",
       "  {'id': 2, 'name': 'Bob'},\n",
       "  {'id': 3, 'name': 'Fred'}]}"
      ]
     },
     "execution_count": 11,
     "metadata": {},
     "output_type": "execute_result"
    }
   ],
   "source": [
    "addPset(db, 1, 100)\n",
    "addPset(db, 2, 90)\n",
    "addPset(db, 3, 95)\n",
    "db"
   ]
  },
  {
   "cell_type": "markdown",
   "metadata": {
    "deletable": false,
    "editable": false,
    "nbgrader": {
     "checksum": "6c4d9dbed919ae7ac4e75700834a7492",
     "grade": false,
     "grade_id": "cell-f38bcc3e30c2bef9",
     "locked": true,
     "schema_version": 1,
     "solution": false
    }
   },
   "source": [
    "## Question 10\n",
    "\n",
    "*5 points*\n",
    "\n",
    "Define a Python *function*, *`addGrade`*, that takes, as inputs, the *`db`* database that was created in Question 7, *`student_id`, `pset_id`*, and *`points`*.\n",
    "\n",
    "Your *function* should add a *dictionary* to the database with *keys, `student`*, *`pset`*, and *`points`*, and corresponding values *`student_id`*, *`pset_id`*, and *`points`*."
   ]
  },
  {
   "cell_type": "code",
   "execution_count": 12,
   "metadata": {
    "deletable": false,
    "nbgrader": {
     "checksum": "8070633d1c033c82c808e1948153a006",
     "grade": false,
     "grade_id": "cell-269814e29e63d3cf",
     "locked": false,
     "schema_version": 1,
     "solution": true
    }
   },
   "outputs": [],
   "source": [
    "### GRADED\n",
    "\n",
    "### YOUR SOLUTION HERE\n",
    "def addGrade():\n",
    "    pass\n",
    "\n",
    "# YOUR CODE HERE\n",
    "def addGrade(db, student_id, pset_id, points):\n",
    "    db[\"grades\"].append({\"student\": student_id,\n",
    "                         \"pset\": pset_id,\n",
    "                         \"points\": points})"
   ]
  },
  {
   "cell_type": "code",
   "execution_count": null,
   "metadata": {
    "deletable": false,
    "editable": false,
    "nbgrader": {
     "checksum": "f11626348f972493eded15bd7798e4d2",
     "grade": true,
     "grade_id": "cell-3b2f43ac662e3ced",
     "locked": true,
     "points": 5,
     "schema_version": 1,
     "solution": false
    }
   },
   "outputs": [],
   "source": []
  },
  {
   "cell_type": "markdown",
   "metadata": {
    "deletable": false,
    "editable": false,
    "nbgrader": {
     "checksum": "1ee58906ad6b40da78dd9116669b45e8",
     "grade": false,
     "grade_id": "cell-51c76362527f3b1a",
     "locked": true,
     "schema_version": 1,
     "solution": false
    }
   },
   "source": [
    "Below we add to the database *`db`* information about *`g1`*, *`g2`*, and *`g3`* by using the *function `addGrade`* defined in Question 10."
   ]
  },
  {
   "cell_type": "code",
   "execution_count": 13,
   "metadata": {},
   "outputs": [
    {
     "data": {
      "text/plain": [
       "{'grades': [{'points': 80, 'pset': 1, 'student': 1},\n",
       "  {'points': 35, 'pset': 2, 'student': 1},\n",
       "  {'points': 95, 'pset': 3, 'student': 1},\n",
       "  {'points': 89, 'pset': 3, 'student': 2},\n",
       "  {'points': 100, 'pset': 3, 'student': 3}],\n",
       " 'psets': [{'id': 1, 'points': 100},\n",
       "  {'id': 2, 'points': 90},\n",
       "  {'id': 3, 'points': 95}],\n",
       " 'students': [{'id': 1, 'name': 'Alice'},\n",
       "  {'id': 2, 'name': 'Bob'},\n",
       "  {'id': 3, 'name': 'Fred'}]}"
      ]
     },
     "execution_count": 13,
     "metadata": {},
     "output_type": "execute_result"
    }
   ],
   "source": [
    "addGrade(db, 1, 1, 80)\n",
    "addGrade(db, 1, 2, 35)\n",
    "addGrade(db, 1, 3, 95)\n",
    "addGrade(db, 2, 3, 89)\n",
    "addGrade(db, 3, 3, 100)\n",
    "\n",
    "\n",
    "db"
   ]
  },
  {
   "cell_type": "markdown",
   "metadata": {
    "deletable": false,
    "editable": false,
    "nbgrader": {
     "checksum": "90e86a16cbcffc66e27353e42217d434",
     "grade": false,
     "grade_id": "cell-619fb6d93ce00345",
     "locked": true,
     "schema_version": 1,
     "solution": false
    }
   },
   "source": [
    "## Question 11\n",
    "\n",
    "*5 points*\n",
    "\n",
    "Define a Python *function*, *`getGrade`*, that takes, as inputs, the *`db`* database that was created in Question 7, *`student_id`, and `pset_id`*.\n",
    "\n",
    " Your *function* should return the grade of the corresponding student id and problem set id.\n",
    " \n",
    "**NOTE:** Use a *list comprehension*."
   ]
  },
  {
   "cell_type": "code",
   "execution_count": 14,
   "metadata": {
    "deletable": false,
    "nbgrader": {
     "checksum": "f05c133513d4bfd86d39f3da5a1fa0f8",
     "grade": false,
     "grade_id": "cell-f306af2f9cec95a7",
     "locked": false,
     "schema_version": 1,
     "solution": true
    }
   },
   "outputs": [],
   "source": [
    "### GRADED\n",
    "\n",
    "### YOUR SOLUTION HERE\n",
    "def getGrade():\n",
    "    pass\n",
    "\n",
    "# YOUR CODE HERE\n",
    "def getGrade(db, student_id, pset_id):\n",
    "    return [row['points'] for row in db['grades']\n",
    "           if row['student'] ==student_id and row['pset'] ==pset_id]"
   ]
  },
  {
   "cell_type": "code",
   "execution_count": null,
   "metadata": {
    "deletable": false,
    "editable": false,
    "nbgrader": {
     "checksum": "3a5f8f1af3cfcc429e2bcb90a9631d92",
     "grade": true,
     "grade_id": "cell-0dad4bd5689327aa",
     "locked": true,
     "points": 5,
     "schema_version": 1,
     "solution": false
    }
   },
   "outputs": [],
   "source": []
  },
  {
   "cell_type": "markdown",
   "metadata": {
    "deletable": false,
    "editable": false,
    "nbgrader": {
     "checksum": "e835e4efd49e6c8946065610a304e9d9",
     "grade": false,
     "grade_id": "cell-2d103acb5b86ce0d",
     "locked": true,
     "schema_version": 1,
     "solution": false
    }
   },
   "source": [
    "Now let's verify that the *function `getGrade`* works as expected for the student with student id equal to 1 and problem set id equal to 1."
   ]
  },
  {
   "cell_type": "code",
   "execution_count": 15,
   "metadata": {},
   "outputs": [
    {
     "data": {
      "text/plain": [
       "[80]"
      ]
     },
     "execution_count": 15,
     "metadata": {},
     "output_type": "execute_result"
    }
   ],
   "source": [
    "getGrade(db,1,1)"
   ]
  },
  {
   "cell_type": "markdown",
   "metadata": {
    "deletable": false,
    "editable": false,
    "nbgrader": {
     "checksum": "f2b8a83b6b2cf6c9b65d35fb5c93cfb9",
     "grade": false,
     "grade_id": "cell-2a213ca4d9b30145",
     "locked": true,
     "schema_version": 1,
     "solution": false
    }
   },
   "source": [
    "## Question 12\n",
    "\n",
    "*5 points*\n",
    "\n",
    "Define a Python *function*, *`getGradeDict`*, that takes, as inputs, *`student_id`*, and *`pset_id`*.\n",
    "\n",
    "Your *function* should return the grade of the corresponding student id and problem set id.\n",
    " \n",
    "**NOTE:** Use a *dictionary comprehension* - Put the grade into *dictionary* format eg *`{'grade: 100}`*."
   ]
  },
  {
   "cell_type": "code",
   "execution_count": 16,
   "metadata": {
    "deletable": false,
    "nbgrader": {
     "checksum": "7965bdce0a1507ca46a3fd2ad57f46df",
     "grade": false,
     "grade_id": "cell-0412aae86d17ada3",
     "locked": false,
     "schema_version": 1,
     "solution": true
    }
   },
   "outputs": [],
   "source": [
    "### GRADED\n",
    "\n",
    "### YOUR SOLUTION HERE\n",
    "def getGradeDict():\n",
    "    pass\n",
    "\n",
    "# YOUR CODE HERE\n",
    "def getGradeDict(student_id, pset_id):\n",
    "    return {\"grade\": row[\"points\"] for row in db[\"grades\"] \n",
    "            if row[\"student\"] == student_id and row[\"pset\"] == pset_id}"
   ]
  },
  {
   "cell_type": "code",
   "execution_count": null,
   "metadata": {
    "deletable": false,
    "editable": false,
    "nbgrader": {
     "checksum": "217508607effc4af3bc0d8a6cb5b5b04",
     "grade": true,
     "grade_id": "cell-5aba0d3876fdbf56",
     "locked": true,
     "points": 5,
     "schema_version": 1,
     "solution": false
    }
   },
   "outputs": [],
   "source": []
  },
  {
   "cell_type": "markdown",
   "metadata": {
    "deletable": false,
    "editable": false,
    "nbgrader": {
     "checksum": "1bb61abd7a459d80596c0733d7980677",
     "grade": false,
     "grade_id": "cell-567890305010229d",
     "locked": true,
     "schema_version": 1,
     "solution": false
    }
   },
   "source": [
    "Now let's verify that the *function `getGradeDict`* works as expected for the student with id equal to 2 and problem set id equal to 3."
   ]
  },
  {
   "cell_type": "code",
   "execution_count": 17,
   "metadata": {},
   "outputs": [
    {
     "name": "stdout",
     "output_type": "stream",
     "text": [
      "{'grade': 89}\n"
     ]
    }
   ],
   "source": [
    "print(getGradeDict(2, 3))"
   ]
  },
  {
   "cell_type": "markdown",
   "metadata": {
    "deletable": false,
    "editable": false,
    "nbgrader": {
     "checksum": "9c2234b35aa39dbfb979e1767801356e",
     "grade": false,
     "grade_id": "cell-357779f1eafd2cba",
     "locked": true,
     "schema_version": 1,
     "solution": false
    }
   },
   "source": [
    "## Question 13\n",
    "\n",
    "*5 points*\n",
    "\n",
    "Define a Python *function*, *`empty`*, that takes zero arguments as inputs.\n",
    "\n",
    "Your *function* should return a *dictionary* with *keys, `students`*, *`psets`*, and *`grades`*, and corresponding values equal to empty *dictionaries*."
   ]
  },
  {
   "cell_type": "code",
   "execution_count": 18,
   "metadata": {
    "deletable": false,
    "nbgrader": {
     "checksum": "d4eaad1e413321298f253486bb49336b",
     "grade": false,
     "grade_id": "cell-62cd89074e52fdd5",
     "locked": false,
     "schema_version": 1,
     "solution": true
    }
   },
   "outputs": [],
   "source": [
    "### GRADED\n",
    "\n",
    "### YOUR SOLUTION HERE\n",
    "def empty():\n",
    "    pass\n",
    "\n",
    "# YOUR CODE HERE\n",
    "def empty():\n",
    "    return {'students':{}, 'psets':{}, 'grades':{}}"
   ]
  },
  {
   "cell_type": "code",
   "execution_count": null,
   "metadata": {
    "deletable": false,
    "editable": false,
    "nbgrader": {
     "checksum": "6b91e98f0075130c6108f502c2962dd6",
     "grade": true,
     "grade_id": "cell-f60aca34f9b625ca",
     "locked": true,
     "points": 5,
     "schema_version": 1,
     "solution": false
    }
   },
   "outputs": [],
   "source": []
  },
  {
   "cell_type": "markdown",
   "metadata": {
    "deletable": false,
    "editable": false,
    "nbgrader": {
     "checksum": "1de8fccd5d418cb8ed7094e5dd5db174",
     "grade": false,
     "grade_id": "cell-24399157fd933d31",
     "locked": true,
     "schema_version": 1,
     "solution": false
    }
   },
   "source": [
    "Below, we have defined an empty new database for you."
   ]
  },
  {
   "cell_type": "code",
   "execution_count": 19,
   "metadata": {},
   "outputs": [],
   "source": [
    "db_dict = empty()"
   ]
  },
  {
   "cell_type": "markdown",
   "metadata": {
    "deletable": false,
    "editable": false,
    "nbgrader": {
     "checksum": "476e56934b25a97636ff76ca9ec569cd",
     "grade": false,
     "grade_id": "cell-06bdd6fdb1b96bbc",
     "locked": true,
     "schema_version": 1,
     "solution": false
    }
   },
   "source": [
    "## Question 14\n",
    "\n",
    "*5 points*\n",
    "\n",
    "Define a Python *function*, *`addStudentDict`*, that takes, as inputs, *`db`*, *`student_id`*, and *`student_name`*.\n",
    "\n",
    "Your *function* should add as a value the *key `students`* in the *`db_dict`* *dictionary*. This value will be a *dictionary* with *keys* equal to *`student_id`* and values equal to *`student_name`*."
   ]
  },
  {
   "cell_type": "code",
   "execution_count": 20,
   "metadata": {
    "deletable": false,
    "nbgrader": {
     "checksum": "705e904803b7e171b884d06cba09c63d",
     "grade": false,
     "grade_id": "cell-df5cf391f47b941f",
     "locked": false,
     "schema_version": 1,
     "solution": true
    }
   },
   "outputs": [],
   "source": [
    "### GRADED\n",
    "\n",
    "### YOUR SOLUTION HERE\n",
    "def addStudentDict():\n",
    "    pass\n",
    "\n",
    "# YOUR CODE HERE\n",
    "def addStudentDict(db, student_id, student_name):\n",
    "    db['students'][student_id] = student_name"
   ]
  },
  {
   "cell_type": "code",
   "execution_count": null,
   "metadata": {
    "deletable": false,
    "editable": false,
    "nbgrader": {
     "checksum": "793849938137f1716103337066cb419b",
     "grade": true,
     "grade_id": "cell-56e6caeff8c9b085",
     "locked": true,
     "points": 5,
     "schema_version": 1,
     "solution": false
    }
   },
   "outputs": [],
   "source": []
  },
  {
   "cell_type": "markdown",
   "metadata": {
    "deletable": false,
    "editable": false,
    "nbgrader": {
     "checksum": "34ef847d33465c844dc0bf6c65ac0dac",
     "grade": false,
     "grade_id": "cell-4e8d8e6a3a1a90c4",
     "locked": true,
     "schema_version": 1,
     "solution": false
    }
   },
   "source": [
    "## Question 15\n",
    "\n",
    "*5 points*\n",
    "\n",
    "Define a Python *function*, *`addPsetDict`*, that takes, as inputs, *`db`*, *`pset_id`*, and *`pset_total_points`*.\n",
    "\n",
    "Your *function* should add as a value the *key `psets`* in the *`db`* *dictionary*. This value will be a *dictionary* with *keys* equal to *`pset_id`* and values equal to *`pset_total_points`*."
   ]
  },
  {
   "cell_type": "code",
   "execution_count": 21,
   "metadata": {
    "deletable": false,
    "nbgrader": {
     "checksum": "9f54404d9fcbe1d8d075ea422b54eec0",
     "grade": false,
     "grade_id": "cell-c69062a8297b8dff",
     "locked": false,
     "schema_version": 1,
     "solution": true
    }
   },
   "outputs": [],
   "source": [
    "### GRADED\n",
    "\n",
    "### YOUR SOLUTION HERE\n",
    "def addPsetDict():\n",
    "    pass\n",
    "\n",
    "# YOUR CODE HERE\n",
    "def addPsetDict(db, pset_id, pset_total_points):\n",
    "    db['psets'][pset_id] = pset_total_points"
   ]
  },
  {
   "cell_type": "code",
   "execution_count": null,
   "metadata": {
    "deletable": false,
    "editable": false,
    "nbgrader": {
     "checksum": "1a5274cbbcf31c2b5fa44295fc06c91a",
     "grade": true,
     "grade_id": "cell-5cd72b94f5e5752c",
     "locked": true,
     "points": 5,
     "schema_version": 1,
     "solution": false
    }
   },
   "outputs": [],
   "source": []
  },
  {
   "cell_type": "markdown",
   "metadata": {
    "deletable": false,
    "editable": false,
    "nbgrader": {
     "checksum": "4c55f144af82d89abcc3785bdddf52b0",
     "grade": false,
     "grade_id": "cell-5e8ddd178f43ce60",
     "locked": true,
     "schema_version": 1,
     "solution": false
    }
   },
   "source": [
    "## Question 16\n",
    "\n",
    "*5 points*\n",
    "\n",
    "Define a Python *function*, *`addGradeDict`*, that takes, as inputs, *`db`*, *`student_id`* *`pset_id`*, and *`points`*.\n",
    "\n",
    "Your *function* should add as a value the *key `grades`* in the *`db`* *dictionary*. This value is going to be a nested *dictionary* with *keys* equal to *`student_id`* and values equal to a *dictionary* with *keys* equal to *`pset_id`* and values equal to *`points`*.\n",
    "\n",
    "If the student does not have any grades, your *function* should add an empty value to the  *dictionary* *`db_dict`*."
   ]
  },
  {
   "cell_type": "code",
   "execution_count": 22,
   "metadata": {
    "deletable": false,
    "nbgrader": {
     "checksum": "76a04e2e5773b1f874f00741dc23441b",
     "grade": false,
     "grade_id": "cell-3f830449650e26f2",
     "locked": false,
     "schema_version": 1,
     "solution": true
    }
   },
   "outputs": [],
   "source": [
    "### GRADED\n",
    "\n",
    "### YOUR SOLUTION HERE\n",
    "def addGradeDict():\n",
    "    pass\n",
    "\n",
    "# YOUR CODE HERE\n",
    "def addGradeDict(db, student_id, pset_id, points):\n",
    "    if student_id not in db['grades']:\n",
    "        db['grades'][student_id] = {}\n",
    "    db['grades'][student_id][pset_id] = points"
   ]
  },
  {
   "cell_type": "code",
   "execution_count": null,
   "metadata": {
    "deletable": false,
    "editable": false,
    "nbgrader": {
     "checksum": "55d7d93084526e5d07c424872ef59e6d",
     "grade": true,
     "grade_id": "cell-51a66612429f81e8",
     "locked": true,
     "points": 5,
     "schema_version": 1,
     "solution": false
    }
   },
   "outputs": [],
   "source": []
  },
  {
   "cell_type": "markdown",
   "metadata": {
    "deletable": false,
    "editable": false,
    "nbgrader": {
     "checksum": "c8d47336c033d16ba064724a808125fb",
     "grade": false,
     "grade_id": "cell-cbb68afa8830649a",
     "locked": true,
     "schema_version": 1,
     "solution": false
    }
   },
   "source": [
    "Now let's try to reset our *dictionary* *`db_dict`* and fill it with some values:"
   ]
  },
  {
   "cell_type": "code",
   "execution_count": 23,
   "metadata": {},
   "outputs": [
    {
     "name": "stdout",
     "output_type": "stream",
     "text": [
      "{'students': {1: 'Alice', 2: 'Bob', 3: 'Charlie'}, 'psets': {1: 100, 2: 120, 3: 130}, 'grades': {1: {1: 98, 2: 108, 3: 125}, 2: {3: 115}, 3: {3: 110}}}\n"
     ]
    }
   ],
   "source": [
    "addStudentDict(db_dict, 1, \"Alice\")\n",
    "addStudentDict(db_dict, 2, \"Bob\")\n",
    "addStudentDict(db_dict, 3, \"Charlie\")\n",
    "#          pset_id, max_score\n",
    "addPsetDict(db_dict, 1, 100)\n",
    "addPsetDict(db_dict, 2, 120)\n",
    "addPsetDict(db_dict, 3, 130)\n",
    "#          student_id, pset_id, value\n",
    "addGradeDict(db_dict, 1, 1, 98)\n",
    "addGradeDict(db_dict, 1, 2, 108)\n",
    "addGradeDict(db_dict, 1, 3, 125)\n",
    "addGradeDict(db_dict, 2, 3, 115)\n",
    "addGradeDict(db_dict, 3, 3, 110)\n",
    "\n",
    "print(db_dict)"
   ]
  },
  {
   "cell_type": "markdown",
   "metadata": {
    "deletable": false,
    "editable": false,
    "nbgrader": {
     "checksum": "923fdb0bd795aac6321521e9f9d27f24",
     "grade": false,
     "grade_id": "cell-3672dc09b8a9ad98",
     "locked": true,
     "schema_version": 1,
     "solution": false
    }
   },
   "source": [
    "In the code cell below, two *functions, `get()`* and *`get2()`* are defined.\n",
    "\n",
    "The *`get()` function* takes as input a *dictionary* and a *key*. The *function* returns the *key* if it's present in the *dictionary*. Otherwise, it returns `None`.\n",
    "\n",
    "\n",
    "The *`get2()` function* takes as input a *dictionary* and two *keys*. The *function* returns the *keys* if they're present in the *dictionary*. Otherwise, it returns `None`."
   ]
  },
  {
   "cell_type": "code",
   "execution_count": 24,
   "metadata": {},
   "outputs": [],
   "source": [
    "def get(dict, key):\n",
    "    if key in dict:\n",
    "        return dict[key]\n",
    "    else:\n",
    "        return None\n",
    "    \n",
    "    \n",
    "    # And a helpful version for traversing nested dictionaries\n",
    "def get2(dict1, key1, key2):\n",
    "    dict2 = get(dict1, key1)\n",
    "    if dict2:\n",
    "        return get(dict2, key2)\n",
    "    else:\n",
    "        return None\n",
    "    \n"
   ]
  },
  {
   "cell_type": "markdown",
   "metadata": {
    "deletable": false,
    "editable": false,
    "nbgrader": {
     "checksum": "d890c5fca08c21038daf877d06e7160b",
     "grade": false,
     "grade_id": "cell-bfb86ab48bf089b6",
     "locked": true,
     "schema_version": 1,
     "solution": false
    }
   },
   "source": [
    "## Question 17\n",
    "\n",
    "*5 points*\n",
    "\n",
    "Define a Python *function*, *`studentGrades`*, that takes, as inputs, *`db`* and *`student_id`*.\n",
    "\n",
    "Your *function* should return a *dictionary* with *keys* equal to the problem set id and values equal to the grade that the student has gotten for each problem.\n",
    "\n",
    "For example\n",
    "\n",
    "```\n",
    "studentGrades(db_Dict,1)\n",
    "```\n",
    "\n",
    "should return\n",
    "\n",
    "```\n",
    "{1: 98, 2: 108, 3: 125}\n",
    "```\n",
    "\n",
    "**HINT:** Use the *`get()` function* that is defined for you above."
   ]
  },
  {
   "cell_type": "code",
   "execution_count": 25,
   "metadata": {
    "deletable": false,
    "nbgrader": {
     "checksum": "ef72960296a560868cb567519370a2ba",
     "grade": false,
     "grade_id": "cell-82eb7de37bb79281",
     "locked": false,
     "schema_version": 1,
     "solution": true
    }
   },
   "outputs": [],
   "source": [
    "### GRADED\n",
    "\n",
    "### YOUR SOLUTION HERE\n",
    "def studentGrades():\n",
    "    pass\n",
    "\n",
    "# YOUR CODE HERE\n",
    "def studentGrades(db, student_id):\n",
    "    return get(db[\"grades\"], student_id)"
   ]
  },
  {
   "cell_type": "code",
   "execution_count": null,
   "metadata": {
    "deletable": false,
    "editable": false,
    "nbgrader": {
     "checksum": "f8c7b02acc15cda832dc033445db91f6",
     "grade": true,
     "grade_id": "cell-a681a04e9aab1f37",
     "locked": true,
     "points": 5,
     "schema_version": 1,
     "solution": false
    }
   },
   "outputs": [],
   "source": []
  },
  {
   "cell_type": "markdown",
   "metadata": {
    "deletable": false,
    "editable": false,
    "nbgrader": {
     "checksum": "ca66b10a9a3da0ae19be33302dd0ace6",
     "grade": false,
     "grade_id": "cell-a58605fcaee031c5",
     "locked": true,
     "schema_version": 1,
     "solution": false
    }
   },
   "source": [
    "In the code cell below, we have defined for you another helper *function: `gradeOn()`*.\n",
    "\n",
    "This *function* takes as imput a *dictionary*, the student id, and the problem set id and it returns the corresponding grade with the help of the *function `get2()`* defined above.\n",
    "\n",
    "Run the code cell below to see how this *function* works."
   ]
  },
  {
   "cell_type": "code",
   "execution_count": 26,
   "metadata": {},
   "outputs": [
    {
     "data": {
      "text/plain": [
       "98"
      ]
     },
     "execution_count": 26,
     "metadata": {},
     "output_type": "execute_result"
    }
   ],
   "source": [
    "def gradeOn(db, student_id, pset_id):\n",
    "    return get2(db[\"grades\"], student_id, pset_id)\n",
    "\n",
    "gradeOn(db_dict, 1,1)"
   ]
  },
  {
   "cell_type": "markdown",
   "metadata": {
    "deletable": false,
    "editable": false,
    "nbgrader": {
     "checksum": "b61a0ed3b9039b7c10e55bf1ba3735aa",
     "grade": false,
     "grade_id": "cell-69cc89aeea1c8e8e",
     "locked": true,
     "schema_version": 1,
     "solution": false
    }
   },
   "source": [
    "## Question 18\n",
    "\n",
    "*5 points*\n",
    "\n",
    "Define a Python *function*, *`gradeOnWeighted`*, that takes, as inputs, *`db`*, *`student_id`, `pset_id`*, and *`pset_points`*. \n",
    "\n",
    "Your *function* should return the weighted grade of a student based on grade and the maximum number of points available for that problem based on the formula given below:\n",
    "\n",
    "$$\\text{weighted_grade} = \\frac{\\text{grade}}{\\text{pset_points}} \\cdot 100$$\n",
    "\n",
    "\n",
    "If the grade is not available, your *function* should return `None`.\n",
    "\n",
    "For example\n",
    "\n",
    "```\n",
    "gradeOnWeighted(db_dict, 1,2, 120) \n",
    "```\n",
    "\n",
    "should return\n",
    "\n",
    "```\n",
    "90\n",
    "```\n",
    "\n",
    "This makes sense as the student with student id equal to one (Alice) earned 108 out of 120 for the problem set with id equal to 2. Therefore, the weighted grade is equal to 90.\n",
    "\n",
    "\n",
    "**HINT:** Use the *`gradeOn()` function* that is defined above."
   ]
  },
  {
   "cell_type": "code",
   "execution_count": 27,
   "metadata": {
    "deletable": false,
    "nbgrader": {
     "checksum": "4e76c59cb2d1a481958063874f4718ce",
     "grade": false,
     "grade_id": "cell-f0ff9b29a8a26ca9",
     "locked": false,
     "schema_version": 1,
     "solution": true
    }
   },
   "outputs": [],
   "source": [
    "### GRADED\n",
    "\n",
    "### YOUR SOLUTION HERE\n",
    "def gradeOnWeighted():\n",
    "    pass\n",
    "\n",
    "# YOUR CODE HERE\n",
    "def gradeOnWeighted(db, student_id, pset_id, pset_points):\n",
    "    grade = gradeOn(db, student_id, pset_id)\n",
    "    if grade == None:\n",
    "        return 0\n",
    "    else:\n",
    "        return grade / pset_points *100"
   ]
  },
  {
   "cell_type": "code",
   "execution_count": null,
   "metadata": {
    "deletable": false,
    "editable": false,
    "nbgrader": {
     "checksum": "9140e24d59e0ddb460ac8665521504e7",
     "grade": true,
     "grade_id": "cell-a017b1f3d92e11ff",
     "locked": true,
     "points": 5,
     "schema_version": 1,
     "solution": false
    }
   },
   "outputs": [],
   "source": []
  },
  {
   "cell_type": "markdown",
   "metadata": {
    "deletable": false,
    "editable": false,
    "nbgrader": {
     "checksum": "e7c3f9f6458bf31df98e160ece4f1f00",
     "grade": false,
     "grade_id": "cell-f52008b0ea592b9f",
     "locked": true,
     "schema_version": 1,
     "solution": false
    }
   },
   "source": [
    "## Question 19\n",
    "\n",
    "*5 points*\n",
    "\n",
    "Define a Python *function*, *`studentGradesWeighted`*, that takes, as inputs, *`db`* and *`student_id`*.\n",
    "\n",
    "Your *function* should return a *list* with all the weighted grades of a student.\n",
    "\n",
    "For example\n",
    "\n",
    "```\n",
    "studentGradesWeighted(db_dict, 1)\n",
    "```\n",
    "\n",
    "should return\n",
    "\n",
    "```\n",
    "[98.0, 90.0, 96.15384615384616]\n",
    "```\n",
    "\n",
    "\n",
    "**HINT:** Use the *`gradeOnWeighted()` function* that you defined in the previous question to help you *loop* over all the grades of a certain student."
   ]
  },
  {
   "cell_type": "code",
   "execution_count": 28,
   "metadata": {
    "deletable": false,
    "nbgrader": {
     "checksum": "93e18b8568b4f246d997664409ee9539",
     "grade": false,
     "grade_id": "cell-8ab5c70d85e00383",
     "locked": false,
     "schema_version": 1,
     "solution": true
    }
   },
   "outputs": [],
   "source": [
    "### GRADED\n",
    "\n",
    "### YOUR SOLUTION HERE\n",
    "def studentGradesWeighted():\n",
    "    pass\n",
    "\n",
    "# YOUR CODE HERE\n",
    "def studentGradesWeighted(db, student_id):\n",
    "    return [gradeOnWeighted(db, student_id, pset_id, pset_points)\n",
    "            for pset_id, pset_points in db[\"psets\"].items()]"
   ]
  },
  {
   "cell_type": "code",
   "execution_count": null,
   "metadata": {
    "deletable": false,
    "editable": false,
    "nbgrader": {
     "checksum": "7226508b1f601e8b33969f2e464e7431",
     "grade": true,
     "grade_id": "cell-08950a279ed91f63",
     "locked": true,
     "points": 5,
     "schema_version": 1,
     "solution": false
    }
   },
   "outputs": [],
   "source": []
  },
  {
   "cell_type": "markdown",
   "metadata": {
    "deletable": false,
    "editable": false,
    "nbgrader": {
     "checksum": "40a1136e3a0919b7b92efe4960a7d08b",
     "grade": false,
     "grade_id": "cell-31abed174c33583b",
     "locked": true,
     "schema_version": 1,
     "solution": false
    }
   },
   "source": [
    "Finally, we define a *function `finalGradeOf()`* that takes, as input, a dictionary and a student id. The function will compute and return the final grade of a student."
   ]
  },
  {
   "cell_type": "code",
   "execution_count": 29,
   "metadata": {},
   "outputs": [
    {
     "data": {
      "text/plain": [
       "9471.8"
      ]
     },
     "execution_count": 29,
     "metadata": {},
     "output_type": "execute_result"
    }
   ],
   "source": [
    "def finalGradeOf(db, student_id):\n",
    "    grades = studentGradesWeighted(db, student_id)\n",
    "    return round(sum(grades) / len(grades) * 100, 1)\n",
    "\n",
    "finalGradeOf(db_dict, 1)"
   ]
  },
  {
   "cell_type": "markdown",
   "metadata": {
    "deletable": false,
    "editable": false,
    "nbgrader": {
     "checksum": "90986eed7f62b3358b556b49d34d9586",
     "grade": false,
     "grade_id": "cell-3a34eca3d8ffd109",
     "locked": true,
     "schema_version": 1,
     "solution": false
    }
   },
   "source": [
    "## Question 20\n",
    "\n",
    "*5 points*\n",
    "\n",
    "Define a Python *function*, *`finalGrades`*, that takes, as input, the *`db` dictionary*.\n",
    "\n",
    "Your *function* should return a *list* with *dictionaries* as elements. Each *dictionary* will have *keys* equal to *`id`, `name`*, and *`grade`* and corresponding values equal to the student id, the name of the student, and their final grade computed with the help of the *`finalGradeOf()` function* that is defined above.\n",
    "\n",
    "If your *function* is defined correctly, based on entries in your database,\n",
    "\n",
    "```\n",
    "print(finalGrades(db_dict))\n",
    "```\n",
    "\n",
    "should return\n",
    "\n",
    "```\n",
    "[{'id': 1, 'name': 'Alice', 'grade': 94.7}, {'id': 2, 'name': 'Bob', 'grade': 29.5}, {'id': 3, 'name': 'Charlie', 'grade': 28.2}].\n",
    "```"
   ]
  },
  {
   "cell_type": "code",
   "execution_count": 30,
   "metadata": {
    "deletable": false,
    "nbgrader": {
     "checksum": "1673e27e5514e955a743ba73e3b8d706",
     "grade": false,
     "grade_id": "cell-8a3c55fe55cd4ba4",
     "locked": false,
     "schema_version": 1,
     "solution": true
    }
   },
   "outputs": [],
   "source": [
    "### GRADED\n",
    "\n",
    "### YOUR SOLUTION HERE\n",
    "def finalGrades():\n",
    "    pass\n",
    "\n",
    "# YOUR CODE HERE\n",
    "def finalGrades(db):\n",
    "    return [{\"id\": id,\n",
    "             \"name\": name,\n",
    "             \"grade\": finalGradeOf(db, id)}\n",
    "            for id, name in db[\"students\"].items()]"
   ]
  },
  {
   "cell_type": "code",
   "execution_count": null,
   "metadata": {
    "deletable": false,
    "editable": false,
    "nbgrader": {
     "checksum": "56540d8b4c7f15f66fa3f2f410046c66",
     "grade": true,
     "grade_id": "cell-0f8175f689e4b1e7",
     "locked": true,
     "points": 5,
     "schema_version": 1,
     "solution": false
    }
   },
   "outputs": [],
   "source": []
  },
  {
   "cell_type": "code",
   "execution_count": null,
   "metadata": {},
   "outputs": [],
   "source": []
  }
 ],
 "metadata": {
  "kernelspec": {
   "display_name": "Python 3",
   "language": "python",
   "name": "python3"
  },
  "language_info": {
   "codemirror_mode": {
    "name": "ipython",
    "version": 3
   },
   "file_extension": ".py",
   "mimetype": "text/x-python",
   "name": "python",
   "nbconvert_exporter": "python",
   "pygments_lexer": "ipython3",
   "version": "3.6.9"
  }
 },
 "nbformat": 4,
 "nbformat_minor": 5
}
