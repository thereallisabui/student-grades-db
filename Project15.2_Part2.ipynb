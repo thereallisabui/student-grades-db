{
 "cells": [
  {
   "cell_type": "markdown",
   "metadata": {
    "deletable": false,
    "editable": false,
    "nbgrader": {
     "checksum": "67486267c9411bf71051f3f16de39012",
     "grade": false,
     "grade_id": "cell-cb3e14d7c76cf1f0",
     "locked": true,
     "schema_version": 1,
     "solution": false
    }
   },
   "source": [
    "# Project 15.2: Project 2 Part 2:  Redundant *Dictionaries* in Python \n",
    "\n",
    "\n",
    "### Learning Outcome Addressed\n",
    "\n",
    "- 7. Implement redundant *dictionaries* in Python.\n",
    "\n",
    "\n",
    "## Index:\n",
    "\n",
    "- [Question 1](#Question-1)\n",
    "- [Question 2](#Question-2)\n",
    "- [Question 3](#Question-3)\n",
    "- [Question 4](#Question-4)\n",
    "- [Question 5](#Question-5)\n",
    "- [Question 6](#Question-6)\n",
    "- [Question 7](#Question-7)\n",
    "- [Question 8](#Question-8)\n",
    "- [Question 9](#Question-9)"
   ]
  },
  {
   "cell_type": "markdown",
   "metadata": {
    "deletable": false,
    "editable": false,
    "nbgrader": {
     "checksum": "b0bc3eafc6270fe1bf7846d12173ab39",
     "grade": false,
     "grade_id": "cell-06e154aaf492bfad",
     "locked": true,
     "schema_version": 1,
     "solution": false
    }
   },
   "source": [
    "## Directions\n",
    "\n",
    "Throughtout this project, you will be working on an exercise similar to the one you developed in `Project 15.2 Part 1: Creating a Student Grades Database Project 2 Part 1: Creating a Student Grades Database`.\n",
    "\n",
    "The main difference between this project and the previous one is that here you will be using redundant *dictionaries* that will make your implementation of the database even more efficient.\n",
    "\n",
    "\n",
    "## Defining Some Helper *Functions*\n",
    "\n",
    "In the code cell below, some helper *functions* are defined that will guide you through the creation of the database.\n",
    "\n",
    "You are already familiar with the *`get()` function* and *`get2()` function*, so this project will focus on the new *`add2()`* *function*.\n",
    "\n",
    "This *function* takes, as inputs, the *`dict` dictionary*, two *keys*, *`key1`* and *`key2`*, that are present in the *dictionary* and a value.\n",
    "\n",
    "If *`key1`* is not present in the *dictionary*, the *function* will add an empty value to it. Otherwise, the *function* adds *`value`* to *`key1`* and *`key2`*."
   ]
  },
  {
   "cell_type": "code",
   "execution_count": 1,
   "metadata": {},
   "outputs": [],
   "source": [
    "def get(dict, key):\n",
    "    if key in dict:\n",
    "        return dict[key]\n",
    "    else:\n",
    "        return None\n",
    "\n",
    "def get2(dict1, key1, key2):\n",
    "    dict2 = get(dict1, key1)\n",
    "    if dict2:\n",
    "        return get(dict2, key2)\n",
    "    else:\n",
    "        return None\n",
    "\n",
    "# to add to a nested dictionary.\n",
    "def add2(db, key1, key2, value):\n",
    "    if key1 not in db:\n",
    "        db[key1] = {}\n",
    "\n",
    "    db[key1][key2] = value\n"
   ]
  },
  {
   "cell_type": "markdown",
   "metadata": {
    "deletable": false,
    "editable": false,
    "nbgrader": {
     "checksum": "35986e67125097e632c51d01b419b9bf",
     "grade": false,
     "grade_id": "cell-46062276677e211e",
     "locked": true,
     "schema_version": 1,
     "solution": false
    }
   },
   "source": [
    "Additionally, you will use some *functions* that your defined in Project 15.2 Part 1 to add some entries to your database."
   ]
  },
  {
   "cell_type": "code",
   "execution_count": 2,
   "metadata": {},
   "outputs": [],
   "source": [
    "def addStudent(db, student_id, student_name):\n",
    "    db['students'][student_id] = student_name\n",
    "    \n",
    "    \n",
    "def addPset(db, pset_id, pset_total_points):\n",
    "    db['psets'][pset_id] = pset_total_points  \n",
    "    \n",
    "def addGrade(db, student_id, pset_id, points):\n",
    "    if student_id not in db['grades']:\n",
    "        db['grades'][student_id] = {}\n",
    "    db['grades'][student_id][pset_id] = points"
   ]
  },
  {
   "cell_type": "markdown",
   "metadata": {
    "deletable": false,
    "editable": false,
    "nbgrader": {
     "checksum": "b9a06bfc9555c38232bf1ec940269a28",
     "grade": false,
     "grade_id": "cell-64ee9962598e69de",
     "locked": true,
     "schema_version": 1,
     "solution": false
    }
   },
   "source": [
    "## Question 1\n",
    "\n",
    "*10 points*\n",
    "\n",
    "Define a Python *function*, *`empty`*, that takes zero arguments as inputs.\n",
    "\n",
    "Your *function* should return a *dictionary* with *keys, `studentsById`, `StudentsByName`, `psets`, `gradesByStudent`* and *`gradesByPset`*, and corresponding values equal to empty *dictionaries*."
   ]
  },
  {
   "cell_type": "code",
   "execution_count": 3,
   "metadata": {
    "deletable": false,
    "nbgrader": {
     "checksum": "cd596e9aba7a927ede9bbfe3348116f2",
     "grade": false,
     "grade_id": "cell-1afb7e1dbf5b9390",
     "locked": false,
     "schema_version": 1,
     "solution": true
    }
   },
   "outputs": [],
   "source": [
    "### GRADED\n",
    "\n",
    "### YOUR SOLUTION HERE\n",
    "def empty():\n",
    "    pass\n",
    "\n",
    "# YOUR CODE HERE\n",
    "def empty():\n",
    "    return {'studentsById':{}, \n",
    "            'studentsByName':{}, \n",
    "            'psets':{}, \n",
    "            'gradesByStudent':{}, \n",
    "            'gradesByPset':{}}"
   ]
  },
  {
   "cell_type": "code",
   "execution_count": null,
   "metadata": {
    "deletable": false,
    "editable": false,
    "nbgrader": {
     "checksum": "06841a97031ff7a2c11d9b81bd53d884",
     "grade": true,
     "grade_id": "cell-a93ef9898fb5d144",
     "locked": true,
     "points": 10,
     "schema_version": 1,
     "solution": false
    }
   },
   "outputs": [],
   "source": []
  },
  {
   "cell_type": "markdown",
   "metadata": {
    "deletable": false,
    "editable": false,
    "nbgrader": {
     "checksum": "507f62ef31c653d6b138807efed14af3",
     "grade": false,
     "grade_id": "cell-8a91d898f1471219",
     "locked": true,
     "schema_version": 1,
     "solution": false
    }
   },
   "source": [
    "Now, you will define your empty *dictionary*."
   ]
  },
  {
   "cell_type": "code",
   "execution_count": 4,
   "metadata": {},
   "outputs": [],
   "source": [
    "db = empty()\n",
    "\n"
   ]
  },
  {
   "cell_type": "markdown",
   "metadata": {
    "deletable": false,
    "editable": false,
    "nbgrader": {
     "checksum": "5573c5ac0c2f4f2fc4bbcd86b1daaa8f",
     "grade": false,
     "grade_id": "cell-6a4b4204c93657cb",
     "locked": true,
     "schema_version": 1,
     "solution": false
    }
   },
   "source": [
    "## Question 2\n",
    "\n",
    "*10 points*\n",
    "\n",
    "Define a Python *function*, *`addStudent`*, that takes, as inputs, *`db`*, *`student_id`*, and *`student_name`*.\n",
    "\n",
    "Your *function* should add a value to the *`studentsById` key* in the *`db` dictionary*. This value is going to be a *dictionary* with *keys* equal to *`student_id`* and value equal to *`student_name`*.\n",
    "\n",
    "Your *function* should add a value to the *key `studentsByName`* in the *`db` dictionary*. This value is going to be a *dictionary* with *keys* equal to *`student_name`* and value equal to *`student_id`*."
   ]
  },
  {
   "cell_type": "code",
   "execution_count": 5,
   "metadata": {
    "deletable": false,
    "nbgrader": {
     "checksum": "d06684e5ebcef828b6ea2da10fb8479f",
     "grade": false,
     "grade_id": "cell-15a937f62ac86db7",
     "locked": false,
     "schema_version": 1,
     "solution": true
    }
   },
   "outputs": [],
   "source": [
    "### GRADED\n",
    "\n",
    "### YOUR SOLUTION HERE\n",
    "def addStudent():\n",
    "    pass\n",
    "\n",
    "# YOUR CODE HERE\n",
    "def addStudent(db, student_id, student_name):\n",
    "    db['studentsById'][student_id] = student_name\n",
    "    db['studentsByName'][student_name] = student_id"
   ]
  },
  {
   "cell_type": "code",
   "execution_count": null,
   "metadata": {
    "deletable": false,
    "editable": false,
    "nbgrader": {
     "checksum": "68f2c9417695a60c078b4283ed35c047",
     "grade": true,
     "grade_id": "cell-9f5e976b8692be40",
     "locked": true,
     "points": 10,
     "schema_version": 1,
     "solution": false
    }
   },
   "outputs": [],
   "source": []
  },
  {
   "cell_type": "markdown",
   "metadata": {
    "deletable": false,
    "editable": false,
    "nbgrader": {
     "checksum": "df9d9f52cdce43f791e9477e2ed2d2c0",
     "grade": false,
     "grade_id": "cell-e03a45d1c6ff2fec",
     "locked": true,
     "schema_version": 1,
     "solution": false
    }
   },
   "source": [
    "In the code cell below, the *`studentIdFromName` function* is defined that uses the helper *function*, *`get()` function*, to get the student name based on the *`studentsByName` key* from the database.\n",
    "\n",
    "Note the the *function* below will serve as a blueprint for the *functions* you will define in Questions 3 and 4."
   ]
  },
  {
   "cell_type": "code",
   "execution_count": 6,
   "metadata": {},
   "outputs": [],
   "source": [
    "def studentIdFromName(db, student_name):\n",
    "    return get(db[\"studentsByName\"], student_name)"
   ]
  },
  {
   "cell_type": "markdown",
   "metadata": {
    "deletable": false,
    "editable": false,
    "nbgrader": {
     "checksum": "0811e015af868d97a58028dd1088ae71",
     "grade": false,
     "grade_id": "cell-4612e86c08c77364",
     "locked": true,
     "schema_version": 1,
     "solution": false
    }
   },
   "source": [
    "## Question 3\n",
    "\n",
    "*10 points*\n",
    "\n",
    "Define a Python *function*, *`studentNameFromId`*, that takes, as inputs, *`db`* and *`student_id`*.\n",
    "\n",
    "This *function* should use the helper *function*, *`get()` function*, to get the student id based on the *`studentsById` key* in the database.\n",
    "\n"
   ]
  },
  {
   "cell_type": "code",
   "execution_count": 7,
   "metadata": {
    "deletable": false,
    "nbgrader": {
     "checksum": "32169e29fe637e0d46ffd352438c579f",
     "grade": false,
     "grade_id": "cell-46fa9bf0002619ec",
     "locked": false,
     "schema_version": 1,
     "solution": true
    }
   },
   "outputs": [],
   "source": [
    "### GRADED\n",
    "\n",
    "### YOUR SOLUTION HERE\n",
    "def studentNameFromId():\n",
    "    pass\n",
    "\n",
    "# YOUR CODE HERE\n",
    "def studentNameFromId(db, student_id):\n",
    "    return get(db['studentsById'], student_id)"
   ]
  },
  {
   "cell_type": "code",
   "execution_count": null,
   "metadata": {
    "deletable": false,
    "editable": false,
    "nbgrader": {
     "checksum": "2a644b3856040b8ccaf37c76c3d35138",
     "grade": true,
     "grade_id": "cell-5ad72b54ea72a02b",
     "locked": true,
     "points": 10,
     "schema_version": 1,
     "solution": false
    }
   },
   "outputs": [],
   "source": []
  },
  {
   "cell_type": "markdown",
   "metadata": {
    "deletable": false,
    "editable": false,
    "nbgrader": {
     "checksum": "54060ce7226ee29446e3ea8594cc56ed",
     "grade": false,
     "grade_id": "cell-fec95b8995ff5436",
     "locked": true,
     "schema_version": 1,
     "solution": false
    }
   },
   "source": [
    "In the code cell below, the *`addPset()` function* is defined that adds the maximum number of points assigned to a problem set to your database."
   ]
  },
  {
   "cell_type": "code",
   "execution_count": 8,
   "metadata": {},
   "outputs": [],
   "source": [
    "def addPset(db, pset_id, pset_total_points):\n",
    "    db[\"psets\"][pset_id] = pset_total_points"
   ]
  },
  {
   "cell_type": "markdown",
   "metadata": {
    "deletable": false,
    "editable": false,
    "nbgrader": {
     "checksum": "c9392d7320e69b567c80c4158d9d8ecd",
     "grade": false,
     "grade_id": "cell-18b46000c1e9eb61",
     "locked": true,
     "schema_version": 1,
     "solution": false
    }
   },
   "source": [
    "## Question 4\n",
    "\n",
    "*10 points*\n",
    "\n",
    "Define a Python *function*, the *`psetPointsFromId` function*, that takes, as inputs, *`db`* and *`pset_id`*.\n",
    "\n",
    "This *function* should use the helper *function*, *`get()` function*, to get the problem set id based on the *`psets` key* from the database."
   ]
  },
  {
   "cell_type": "code",
   "execution_count": 9,
   "metadata": {
    "deletable": false,
    "nbgrader": {
     "checksum": "d6b0cd63cbd7e48a2966fcd2add69131",
     "grade": false,
     "grade_id": "cell-0b4616721d423f4a",
     "locked": false,
     "schema_version": 1,
     "solution": true
    }
   },
   "outputs": [],
   "source": [
    "### GRADED\n",
    "\n",
    "### YOUR SOLUTION HERE\n",
    "def  psetPointsFromId():\n",
    "    pass\n",
    "\n",
    "# YOUR CODE HERE\n",
    "def psetPointsFromId(db, pset_id):\n",
    "    return get(db['psets'], pset_id)"
   ]
  },
  {
   "cell_type": "code",
   "execution_count": null,
   "metadata": {
    "deletable": false,
    "editable": false,
    "nbgrader": {
     "checksum": "44d4f1de68a97b4ce08e6fcc0311c98e",
     "grade": true,
     "grade_id": "cell-5a29f64cb3c70198",
     "locked": true,
     "points": 10,
     "schema_version": 1,
     "solution": false
    }
   },
   "outputs": [],
   "source": []
  },
  {
   "cell_type": "markdown",
   "metadata": {
    "deletable": false,
    "editable": false,
    "nbgrader": {
     "checksum": "35949ba443afd3f3a8e9ef4bdd27d246",
     "grade": false,
     "grade_id": "cell-9b5aa488685c1fb9",
     "locked": true,
     "schema_version": 1,
     "solution": false
    }
   },
   "source": [
    "## Question 5\n",
    "\n",
    "*10 points*\n",
    "\n",
    "Define a Python *function*, *`addGrade`*, that takes, as inputs, *`db`*, *`student_id`, `pset_id`*, and *`points`*.\n",
    "\n",
    "This *function* should use the helper *function*, the *`add2()`function*, to add the student id, the problem set id, and the points based on the *`gradesByStudent` key* in the database.\n",
    "\n",
    "This *function* should also use the helper *function*, the *`add2()` function* to add the problem set id, the student id, and the points based on the *`gradesByPset` key* in the database."
   ]
  },
  {
   "cell_type": "code",
   "execution_count": 10,
   "metadata": {
    "deletable": false,
    "nbgrader": {
     "checksum": "9cb677da76bfab88bf7c6adfa36d9855",
     "grade": false,
     "grade_id": "cell-e6b750e4eb1d96f8",
     "locked": false,
     "schema_version": 1,
     "solution": true
    }
   },
   "outputs": [],
   "source": [
    "### GRADED\n",
    "\n",
    "### YOUR SOLUTION HERE\n",
    "def  addGrade():\n",
    "    pass\n",
    "\n",
    "# YOUR CODE HERE\n",
    "def addGrade(db, student_id, pset_id, points):\n",
    "    add2(db['gradesByStudent'], student_id, pset_id, points)\n",
    "    add2(db['gradesByPset'], pset_id, student_id, points)"
   ]
  },
  {
   "cell_type": "code",
   "execution_count": null,
   "metadata": {
    "deletable": false,
    "editable": false,
    "nbgrader": {
     "checksum": "999c5f2ce9f2f6c1fdd0e2690c6cb298",
     "grade": true,
     "grade_id": "cell-7a578fb015c11ae3",
     "locked": true,
     "points": 10,
     "schema_version": 1,
     "solution": false
    }
   },
   "outputs": [],
   "source": []
  },
  {
   "cell_type": "markdown",
   "metadata": {
    "deletable": false,
    "editable": false,
    "nbgrader": {
     "checksum": "19357a679899db6c73732f78766b1933",
     "grade": false,
     "grade_id": "cell-bb183babdeea6bfc",
     "locked": true,
     "schema_version": 1,
     "solution": false
    }
   },
   "source": [
    "Now, you can add some entries to your *dictionary*."
   ]
  },
  {
   "cell_type": "code",
   "execution_count": 11,
   "metadata": {},
   "outputs": [
    {
     "data": {
      "text/plain": [
       "{'gradesByPset': {1: {1: 10}, 2: {1: 18}, 3: {1: 25, 2: 15, 3: 10}},\n",
       " 'gradesByStudent': {1: {1: 10, 2: 18, 3: 25}, 2: {3: 15}, 3: {3: 10}},\n",
       " 'psets': {1: 10, 2: 20, 3: 30},\n",
       " 'studentsById': {1: 'Alice', 2: 'Bob', 3: 'Charlie'},\n",
       " 'studentsByName': {'Alice': 1, 'Bob': 2, 'Charlie': 3}}"
      ]
     },
     "execution_count": 11,
     "metadata": {},
     "output_type": "execute_result"
    }
   ],
   "source": [
    "addStudent(db, 1, \"Alice\")\n",
    "addStudent(db, 2, \"Bob\")\n",
    "addStudent(db, 3, \"Charlie\")\n",
    "\n",
    "addPset(db, 1, 10)\n",
    "addPset(db, 2, 20)\n",
    "addPset(db, 3, 30)\n",
    "\n",
    "addGrade(db, 1, 1, 10)\n",
    "addGrade(db, 1, 2, 18)\n",
    "addGrade(db, 1, 3, 25)\n",
    "addGrade(db, 2, 3, 15)\n",
    "addGrade(db, 3, 3, 10)\n",
    "\n",
    "db"
   ]
  },
  {
   "cell_type": "markdown",
   "metadata": {
    "deletable": false,
    "editable": false,
    "nbgrader": {
     "checksum": "eab96c198fe2d893fc647637cd8bba67",
     "grade": false,
     "grade_id": "cell-1c2e9d84622bf3cd",
     "locked": true,
     "schema_version": 1,
     "solution": false
    }
   },
   "source": [
    "## Question 6\n",
    "\n",
    "*10 points*\n",
    "\n",
    "Define a Python *function*, *`gradeOn`*, that takes, as inputs, *`db`*, *`student_id`, and `pset_id`*.\n",
    "\n",
    "This *function* should use the helper *function*, the *`get2()` function* to retrieve the student id and the problem set id from the *`gradesByStudent` key* in the database.\n"
   ]
  },
  {
   "cell_type": "code",
   "execution_count": 12,
   "metadata": {
    "deletable": false,
    "nbgrader": {
     "checksum": "8dd87fd6cdec89475326b2d96b45509e",
     "grade": false,
     "grade_id": "cell-de92514e50290b1f",
     "locked": false,
     "schema_version": 1,
     "solution": true
    }
   },
   "outputs": [],
   "source": [
    "### GRADED\n",
    "\n",
    "### YOUR SOLUTION HERE\n",
    "def  gradeOn():\n",
    "    pass\n",
    "\n",
    "# YOUR CODE HERE\n",
    "def gradeOn(db, student_id, pset_id):\n",
    "    return get2(db['gradesByStudent'], student_id, pset_id)"
   ]
  },
  {
   "cell_type": "code",
   "execution_count": null,
   "metadata": {
    "deletable": false,
    "editable": false,
    "nbgrader": {
     "checksum": "a0a384d64e21d67d3d151bf3fe54b1ea",
     "grade": true,
     "grade_id": "cell-25211d4c8b89777e",
     "locked": true,
     "points": 10,
     "schema_version": 1,
     "solution": false
    }
   },
   "outputs": [],
   "source": []
  },
  {
   "cell_type": "markdown",
   "metadata": {
    "deletable": false,
    "editable": false,
    "nbgrader": {
     "checksum": "855cef43fb1d515778a83aa07c8b45cb",
     "grade": false,
     "grade_id": "cell-4fab49a7a58f9892",
     "locked": true,
     "schema_version": 1,
     "solution": false
    }
   },
   "source": [
    "In the code cell below, the *`studentGrades` function* is defined that acts in a similar way as the *`gradeOn` function* that was defined in the previous question.\n",
    "\n",
    "Note that this *function* retrieves the student id based on the *`gradesByStudent` key* in the database."
   ]
  },
  {
   "cell_type": "code",
   "execution_count": 13,
   "metadata": {},
   "outputs": [],
   "source": [
    "def studentGrades(db, student_id):\n",
    "    return get(db[\"gradesByStudent\"], student_id)"
   ]
  },
  {
   "cell_type": "markdown",
   "metadata": {
    "deletable": false,
    "editable": false,
    "nbgrader": {
     "checksum": "526da7e8413a140b62369991e0629c58",
     "grade": false,
     "grade_id": "cell-a8845b2702c2d579",
     "locked": true,
     "schema_version": 1,
     "solution": false
    }
   },
   "source": [
    "## Question 7\n",
    "\n",
    "*15 points*\n",
    "\n",
    "Define a Python *function*, *`gradesOnPset`*, that takes, as inputs, *`db`* and *`pset_id`*.\n",
    "\n",
    "This *function* should use the helper *function `get()`* to retrieve the dictionary with *`pset_id` key* from the dictionary with *`gradesByPset` key*,  and assign this dictionary to a variable called *`students`*.\n",
    "\n",
    "Then, this *function* should use an *`if`* statement and a *dictionary comprehension* to return the name and points for each student by iterating through the student ids and points in *`students.items()`*\n",
    "\n",
    "The resulting *dictionary* should have *keys* equal to the students names and values equal to the grade they got in the problem.\n",
    "\n",
    "For example, if:\n",
    "\n",
    "``` Python\n",
    "students = {1: 10, 2: 18, 3: 25}\n",
    "```\n",
    "\n",
    "and\n",
    "\n",
    "```Python\n",
    " 'studentsById': {1: 'Alice', 2: 'Bob', 3: 'Charlie'}, \n",
    "```\n",
    "your *funcion* should return:\n",
    "\n",
    "```Python\n",
    "{'Alice': 10, 'Bob': 18, 'Charlie': 25}\n",
    "```\n",
    "\n",
    "The blueprint for this *function* is given below:\n",
    "\n",
    "```\n",
    "\n",
    "def gradesOnPset(db, pset_id):\n",
    "    students = get(db[\"gradesByPset\"], pset_id)\n",
    "    if students:\n",
    "        #complete the dictionary comprehension below\n",
    "        return {_______________ for student_id, points in students.items()}\n",
    "    else:\n",
    "        #return empty value\n",
    "        _____________\n",
    "        \n",
    "        \n",
    "```"
   ]
  },
  {
   "cell_type": "code",
   "execution_count": 14,
   "metadata": {
    "deletable": false,
    "nbgrader": {
     "checksum": "e0157d1a5b89be5bbe5045b53872a396",
     "grade": false,
     "grade_id": "cell-8b9a261276a3b248",
     "locked": false,
     "schema_version": 1,
     "solution": true
    }
   },
   "outputs": [],
   "source": [
    "### GRADED\n",
    "\n",
    "### YOUR SOLUTION HERE\n",
    "def  gradeOnPset():\n",
    "    pass\n",
    "\n",
    "# YOUR CODE HERE\n",
    "def gradesOnPset(db, pset_id):\n",
    "    students = get(db[\"gradesByPset\"], pset_id)\n",
    "    if students:\n",
    "        return {db[\"studentsById\"][student_id]: points\n",
    "            for student_id, points in students.items()}\n",
    "    else:\n",
    "        return {}"
   ]
  },
  {
   "cell_type": "code",
   "execution_count": null,
   "metadata": {
    "deletable": false,
    "editable": false,
    "nbgrader": {
     "checksum": "1ac9526216b81c4464f7fe66100ac11e",
     "grade": true,
     "grade_id": "cell-d12462514affe4ec",
     "locked": true,
     "points": 15,
     "schema_version": 1,
     "solution": false
    }
   },
   "outputs": [],
   "source": []
  },
  {
   "cell_type": "markdown",
   "metadata": {
    "deletable": false,
    "editable": false,
    "nbgrader": {
     "checksum": "990d74a9410de039ce2f9db2a0c6c59d",
     "grade": false,
     "grade_id": "cell-c3fe85aeaa1b1c01",
     "locked": true,
     "schema_version": 1,
     "solution": false
    }
   },
   "source": [
    "In the code cell below, the *`gradeOnWeighted` function* is defined.\n",
    "\n",
    "This *function* is similar to the one you defined in Project 15.2 Part 1, in the sense that it computes the weighted average for the grades for each student."
   ]
  },
  {
   "cell_type": "code",
   "execution_count": 15,
   "metadata": {},
   "outputs": [],
   "source": [
    "def gradeOnWeighted(db, student_id, pset_id, pset_points):\n",
    "    grade = gradeOn(db, student_id, pset_id)\n",
    "    if grade == None:\n",
    "        return 0\n",
    "    else:\n",
    "        return (grade / pset_points) "
   ]
  },
  {
   "cell_type": "markdown",
   "metadata": {
    "deletable": false,
    "editable": false,
    "nbgrader": {
     "checksum": "5e08e3ef27cbfaf0f8d03568dfa4444a",
     "grade": false,
     "grade_id": "cell-3ba7c451c88968e7",
     "locked": true,
     "schema_version": 1,
     "solution": false
    }
   },
   "source": [
    "## Question 8\n",
    "\n",
    "*15 points*\n",
    "\n",
    "Define a Python *function*, the *`studentGradesWeighted` function*, that takes, as inputs, *`db`* and `student_id`*.\n",
    "\n",
    "\n",
    "This *function* should use a *list comprehension* and the *`gradeOnWeighted()` function* that was defined for you in the previous code cell to return the problem set id and the maximum points available for each problem set for all the entries in the database corresponding to the *`psets` key*.\n",
    "\n",
    "The blueprint for this *function* is given below:\n",
    "\n",
    "```\n",
    "\n",
    "def studentGradesWeighted(db, student_id):\n",
    "    #complete list comprehension\n",
    "    return [__________________________ for pset_id, pset_points in db[\"psets\"].items()]\n",
    "        \n",
    "```"
   ]
  },
  {
   "cell_type": "code",
   "execution_count": 16,
   "metadata": {
    "deletable": false,
    "nbgrader": {
     "checksum": "9078125cc1a0302799d2753b68878ba2",
     "grade": false,
     "grade_id": "cell-f9f958b2db3a34dc",
     "locked": false,
     "schema_version": 1,
     "solution": true
    }
   },
   "outputs": [],
   "source": [
    "### GRADED\n",
    "\n",
    "### YOUR SOLUTION HERE\n",
    "def  studentGradesWeighted():\n",
    "    pass\n",
    "\n",
    "# YOUR CODE HERE\n",
    "def studentGradesWeighted(db, student_id):\n",
    "    return [gradeOnWeighted(db, student_id, pset_id, pset_points)\n",
    "            for pset_id, pset_points in db[\"psets\"].items()]"
   ]
  },
  {
   "cell_type": "code",
   "execution_count": null,
   "metadata": {
    "deletable": false,
    "editable": false,
    "nbgrader": {
     "checksum": "a55c99d94ad332d135e76096b1540be2",
     "grade": true,
     "grade_id": "cell-6eb66b0a16f35961",
     "locked": true,
     "points": 15,
     "schema_version": 1,
     "solution": false
    }
   },
   "outputs": [],
   "source": []
  },
  {
   "cell_type": "markdown",
   "metadata": {
    "deletable": false,
    "editable": false,
    "nbgrader": {
     "checksum": "0dee49989ac3b6f3d56ad75d48b8bc62",
     "grade": false,
     "grade_id": "cell-a44073207f0709b9",
     "locked": true,
     "schema_version": 1,
     "solution": false
    }
   },
   "source": [
    "In the code cell below, the *`finalGradeOf()` function* is defined that uses the *`studentGradesWeighted()` function* to compute the weighted grade for each student."
   ]
  },
  {
   "cell_type": "code",
   "execution_count": 17,
   "metadata": {},
   "outputs": [],
   "source": [
    "def finalGradeOf(db, student_id):\n",
    "    grades = studentGradesWeighted(db, student_id)\n",
    "    return round(sum(grades) / len(grades) * 100, 1)"
   ]
  },
  {
   "cell_type": "markdown",
   "metadata": {
    "deletable": false,
    "editable": false,
    "nbgrader": {
     "checksum": "9f3db12dd19e174dafd40e4997571102",
     "grade": false,
     "grade_id": "cell-2667b364fcc353cb",
     "locked": true,
     "schema_version": 1,
     "solution": false
    }
   },
   "source": [
    "## Question 9\n",
    "\n",
    "*10 points*\n",
    "\n",
    "Define a Python *function*, *`finalGrades`*, that takes, as input, *`db`*.\n",
    "\n",
    "\n",
    "This *function* should use a *list comprehension* to return the student id, the student name, and the weighted grade for each student.\n",
    "\n",
    "**Hint:** This *function* will have a very similar structure to the *`finalGrades()` function* that was defined in Project 15.2 Part 1."
   ]
  },
  {
   "cell_type": "code",
   "execution_count": 20,
   "metadata": {
    "deletable": false,
    "nbgrader": {
     "checksum": "5983c845479b5233079e72a10e0c3942",
     "grade": false,
     "grade_id": "cell-51ef7eea3e347bc9",
     "locked": false,
     "schema_version": 1,
     "solution": true
    }
   },
   "outputs": [],
   "source": [
    "### GRADED\n",
    "\n",
    "### YOUR SOLUTION HERE\n",
    "def  finalGrades():\n",
    "    pass\n",
    "\n",
    "# YOUR CODE HERE\n",
    "def finalGrades(db):\n",
    "    return [{\"id\": id,\n",
    "             \"name\": name,\n",
    "             \"grade\": finalGradeOf(db, id)}\n",
    "            for id, name in db[\"studentsById\"].items()]"
   ]
  },
  {
   "cell_type": "code",
   "execution_count": null,
   "metadata": {
    "deletable": false,
    "editable": false,
    "nbgrader": {
     "checksum": "efcd5582cf2d4d62210dbbe553e3d77a",
     "grade": true,
     "grade_id": "cell-7549391fef8f14b6",
     "locked": true,
     "points": 10,
     "schema_version": 1,
     "solution": false
    }
   },
   "outputs": [],
   "source": []
  },
  {
   "cell_type": "markdown",
   "metadata": {
    "deletable": false,
    "editable": false,
    "nbgrader": {
     "checksum": "6b320e16382c1aa879d6ef95133cf835",
     "grade": false,
     "grade_id": "cell-69387c34068a2b39",
     "locked": true,
     "schema_version": 1,
     "solution": false
    }
   },
   "source": [
    "Finally, you can add some entries to your *dictionary* to see if you get the correct structure for your database."
   ]
  },
  {
   "cell_type": "code",
   "execution_count": 21,
   "metadata": {},
   "outputs": [
    {
     "name": "stdout",
     "output_type": "stream",
     "text": [
      "[{'id': 1, 'name': 'Alice', 'grade': 91.1}, {'id': 2, 'name': 'Bob', 'grade': 16.7}, {'id': 3, 'name': 'Charlie', 'grade': 11.1}]\n"
     ]
    }
   ],
   "source": [
    "print (finalGrades(db))"
   ]
  },
  {
   "cell_type": "markdown",
   "metadata": {
    "deletable": false,
    "editable": false,
    "nbgrader": {
     "checksum": "3bdce504b0de61040a6217e554758a03",
     "grade": false,
     "grade_id": "cell-2fda955941900b85",
     "locked": true,
     "schema_version": 1,
     "solution": false
    }
   },
   "source": [
    "Congratulations! You have created your first database using redundant *dictionaries*!"
   ]
  }
 ],
 "metadata": {
  "kernelspec": {
   "display_name": "Python 3",
   "language": "python",
   "name": "python3"
  },
  "language_info": {
   "codemirror_mode": {
    "name": "ipython",
    "version": 3
   },
   "file_extension": ".py",
   "mimetype": "text/x-python",
   "name": "python",
   "nbconvert_exporter": "python",
   "pygments_lexer": "ipython3",
   "version": "3.6.9"
  }
 },
 "nbformat": 4,
 "nbformat_minor": 5
}
